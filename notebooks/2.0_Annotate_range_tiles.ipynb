{
 "cells": [
  {
   "cell_type": "code",
   "execution_count": 4,
   "id": "2218cd96",
   "metadata": {},
   "outputs": [],
   "source": [
    "import json\n",
    "from pathlib import Path\n",
    "import napari\n",
    "import numpy as np\n",
    "from tifffile import imread, imwrite\n"
   ]
  },
  {
   "cell_type": "code",
   "execution_count": null,
   "id": "a86f8336",
   "metadata": {},
   "outputs": [],
   "source": []
  },
  {
   "cell_type": "code",
   "execution_count": 7,
   "id": "c868b6f2",
   "metadata": {},
   "outputs": [],
   "source": [
    "#############################################################################################\n",
    "# VARIABLES  - You can change these variables to adapt the code to your dataset\n",
    "BATCH = \"2_annotators_CD4\" # Batch name for the dataset - Should match the folder structure\n",
    "MARKER = \"CD4\" # Marker name to be used in the dataset\n",
    "#############################################################################################"
   ]
  },
  {
   "cell_type": "code",
   "execution_count": null,
   "id": "980a8961",
   "metadata": {},
   "outputs": [],
   "source": []
  },
  {
   "cell_type": "code",
   "execution_count": 8,
   "id": "ea0822e3",
   "metadata": {},
   "outputs": [],
   "source": [
    "# Constants\n",
    "MARKER_DIR = Path(\"../data/\" + BATCH + \"/tiles_marker\")\n",
    "DAPI_DIR = Path(\"../data/\" + BATCH + \"/tiles_DAPI\")\n",
    "ANNOT_DIR = Path(\"../annotations/\" + BATCH + \"/\")\n",
    "ANNOT_DIR.mkdir(exist_ok=True)"
   ]
  },
  {
   "cell_type": "code",
   "execution_count": 9,
   "id": "1306afe0",
   "metadata": {},
   "outputs": [],
   "source": [
    "# Prepare list of marker tiles\n",
    "all_marker_tiles = sorted(MARKER_DIR.glob(\"*_\" + MARKER + \".tiff\"))\n",
    "\n",
    "# find next un-annotated tile\n",
    "def find_next_tile():\n",
    "    for tile in all_marker_tiles:\n",
    "        annot_path = ANNOT_DIR / (tile.stem + \".json\")\n",
    "        if not annot_path.exists():\n",
    "            return tile\n",
    "    return None"
   ]
  },
  {
   "cell_type": "code",
   "execution_count": 10,
   "id": "23362be7",
   "metadata": {},
   "outputs": [],
   "source": [
    "# Global viewer and state (will be set in next_tile())\n",
    "viewer = napari.Viewer()\n",
    "current = {}"
   ]
  },
  {
   "cell_type": "code",
   "execution_count": null,
   "id": "931c7114",
   "metadata": {},
   "outputs": [],
   "source": []
  },
  {
   "cell_type": "code",
   "execution_count": 11,
   "id": "3183215e",
   "metadata": {},
   "outputs": [],
   "source": [
    "def load_tile(tile: Path):\n",
    "    viewer.layers.clear()\n",
    "    dapi = DAPI_DIR / tile.name.replace(\"_\" + MARKER + \".tiff\", \"_DAPI.tiff\")\n",
    "    if not dapi.exists():\n",
    "        viewer.window.status = f\"No matching DAPI for {tile}\"\n",
    "        return False\n",
    "    img_marker = imread(tile)\n",
    "    img_dapi = imread(dapi)\n",
    "    viewer.add_image(img_dapi, name=\"DAPI\", colormap=\"bop blue\", opacity=0.5)\n",
    "    viewer.add_image(img_marker, name=MARKER, colormap=\"gray\", blending='additive')\n",
    "    return True\n"
   ]
  },
  {
   "cell_type": "code",
   "execution_count": 14,
   "id": "0d729a87",
   "metadata": {},
   "outputs": [],
   "source": [
    "@viewer.bind_key('Shift-B', overwrite=True)\n",
    "def annotate_and_next(viewer):\n",
    "    marker_layer = viewer.layers[MARKER] if MARKER in viewer.layers else None\n",
    "    if marker_layer is None:\n",
    "        viewer.window.status = \"No marker layer loaded.\"\n",
    "        return\n",
    "\n",
    "    # Get contrast limits\n",
    "    min_val, max_val = marker_layer.contrast_limits\n",
    "    current_tile = current.get('marker')\n",
    "    if current_tile is None:\n",
    "        viewer.window.status = \"No tile loaded.\"\n",
    "        return\n",
    "\n",
    "    # Save annotation\n",
    "    annotation = {\n",
    "        'min': float(min_val),\n",
    "        'max': float(max_val),\n",
    "        'tile': current_tile.name\n",
    "    }\n",
    "    save_path = ANNOT_DIR / (current_tile.stem + '.json')\n",
    "    with open(save_path, 'w') as f:\n",
    "        json.dump(annotation, f)\n",
    "\n",
    "    viewer.window.status = f\"Saved annotation for {current_tile.name}\"\n",
    "\n",
    "    # Remove previous layers\n",
    "    for name in [MARKER, 'DAPI']:\n",
    "        if name in viewer.layers:\n",
    "            viewer.layers.remove(viewer.layers[name])\n",
    "\n",
    "    # Load next tile\n",
    "    next_tile = find_next_tile()\n",
    "    if next_tile:\n",
    "        current['marker'] = next_tile\n",
    "        load_tile(next_tile)\n",
    "        viewer.window.status = f\"Loaded {next_tile.name}\"\n",
    "    else:\n",
    "        viewer.window.status = \"No tiles left to annotate — you're done!\"\n"
   ]
  },
  {
   "cell_type": "code",
   "execution_count": 12,
   "id": "37f21b19",
   "metadata": {},
   "outputs": [],
   "source": [
    "UPPER_RANGE = 1  # adjust if needed (e.g. 255 for 8-bit)\n",
    "\n",
    "def adjust_contrast(min_shift=0, max_shift=0):\n",
    "    try:\n",
    "        layer = viewer.layers[MARKER]\n",
    "        vmin, vmax = layer.contrast_limits\n",
    "        current_range = vmax - vmin\n",
    "\n",
    "        new_vmin = max(0, vmin + min_shift * current_range)\n",
    "        new_vmax = min(UPPER_RANGE, vmax + max_shift * current_range)\n",
    "\n",
    "        # Prevent vmin > vmax\n",
    "        if new_vmin >= new_vmax:\n",
    "            return\n",
    "\n",
    "        layer.contrast_limits = (new_vmin, new_vmax)\n",
    "        viewer.window.status = f\"Range updated: ({int(new_vmin)} – {int(new_vmax)})\"\n",
    "    except KeyError:\n",
    "        viewer.window.status = MARKER + \" layer not loaded.\"\n",
    "\n",
    "# Shift+A: decrease min\n",
    "@viewer.bind_key('Shift-A', overwrite=True)\n",
    "def decrease_min(viewer):\n",
    "    adjust_contrast(min_shift=-0.1)\n",
    "\n",
    "# Shift+S: increase min\n",
    "@viewer.bind_key('Shift-S', overwrite=True)\n",
    "def increase_min(viewer):\n",
    "    adjust_contrast(min_shift=+0.1)\n",
    "\n",
    "# Shift+Q: decrease max\n",
    "@viewer.bind_key('Shift-Q', overwrite=True)\n",
    "def decrease_max(viewer):\n",
    "    adjust_contrast(max_shift=-0.1)\n",
    "\n",
    "# Shift+W: increase max\n",
    "@viewer.bind_key('Shift-W', overwrite=True)\n",
    "def increase_max(viewer):\n",
    "    adjust_contrast(max_shift=+0.1)"
   ]
  },
  {
   "cell_type": "code",
   "execution_count": 13,
   "id": "226c330e",
   "metadata": {},
   "outputs": [],
   "source": [
    "# Kick off with the first tile\n",
    "first = find_next_tile()\n",
    "if first:\n",
    "    current['marker'] = first\n",
    "    load_tile(first)\n",
    "    viewer.window.status = f\"Loaded {first}\"\n",
    "else:\n",
    "    viewer.window.status = \"No tiles to annotate — you're done!\""
   ]
  },
  {
   "cell_type": "code",
   "execution_count": null,
   "id": "892dde26",
   "metadata": {},
   "outputs": [],
   "source": []
  }
 ],
 "metadata": {
  "kernelspec": {
   "display_name": "napari-env",
   "language": "python",
   "name": "python3"
  },
  "language_info": {
   "codemirror_mode": {
    "name": "ipython",
    "version": 3
   },
   "file_extension": ".py",
   "mimetype": "text/x-python",
   "name": "python",
   "nbconvert_exporter": "python",
   "pygments_lexer": "ipython3",
   "version": "3.8.20"
  }
 },
 "nbformat": 4,
 "nbformat_minor": 5
}
