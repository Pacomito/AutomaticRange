{
 "cells": [
  {
   "cell_type": "code",
   "execution_count": 41,
   "id": "2218cd96",
   "metadata": {},
   "outputs": [],
   "source": [
    "from pathlib import Path\n",
    "import json\n",
    "import numpy as np\n",
    "from PIL import Image\n",
    "import torch\n",
    "from torch.utils.data import Dataset, DataLoader\n",
    "import torchvision.transforms as T\n",
    "import random\n",
    "import sys, os\n",
    "import importlib"
   ]
  },
  {
   "cell_type": "code",
   "execution_count": 42,
   "id": "bc2d91cc",
   "metadata": {},
   "outputs": [],
   "source": [
    "sys.path.append(os.path.abspath(\"..\"))"
   ]
  },
  {
   "cell_type": "code",
   "execution_count": 43,
   "id": "7e875818",
   "metadata": {},
   "outputs": [],
   "source": [
    "import data\n",
    "import models\n",
    "importlib.reload(data)\n",
    "from data import RangeAnnotationDataset\n",
    "importlib.reload(models)\n",
    "from models import AutomaticRangeNet\n"
   ]
  },
  {
   "cell_type": "markdown",
   "id": "579c7fd7",
   "metadata": {},
   "source": [
    "RangeAnnotationDataset"
   ]
  },
  {
   "cell_type": "code",
   "execution_count": 44,
   "id": "1d60a658",
   "metadata": {},
   "outputs": [],
   "source": [
    "# train.py\n",
    "import os\n",
    "import json\n",
    "import torch\n",
    "from torch import nn, optim\n",
    "from torch.utils.data import DataLoader, random_split\n",
    "from torch.utils.tensorboard import SummaryWriter\n",
    "from data import RangeAnnotationDataset\n",
    "from models import AutomaticRangeNet\n",
    "\n",
    "# --- Config ---\n",
    "config = {\n",
    "    \"data\": {\n",
    "        \"annotations_dir\": \"../annotations\",\n",
    "        \"marker_dir\": \"../data/tiles_marker\",\n",
    "        \"dapi_dir\": \"../data/tiles_DAPI\"\n",
    "    },\n",
    "    \"train_params\": {\n",
    "        \"batch_size\": 8,\n",
    "        \"epochs\": 50,\n",
    "        \"learning_rate\": 1e-3,\n",
    "        \"val_split\": 0.2,\n",
    "        \"shuffle\": True,\n",
    "        \"augment\": True\n",
    "    },\n",
    "    \"log_dir\": \"logs\"\n",
    "}\n",
    "\n",
    "# --- Dataset ---\n",
    "dataset = RangeAnnotationDataset(\n",
    "    annotations_dir=config[\"data\"][\"annotations_dir\"],\n",
    "    tiles_marker_dir=config[\"data\"][\"marker_dir\"],\n",
    "    tiles_dapi_dir=config[\"data\"][\"dapi_dir\"],\n",
    "    augment=config[\"train_params\"][\"augment\"]\n",
    ")"
   ]
  },
  {
   "cell_type": "code",
   "execution_count": 45,
   "id": "cf7e6e74",
   "metadata": {},
   "outputs": [
    {
     "data": {
      "text/plain": [
       "100"
      ]
     },
     "execution_count": 45,
     "metadata": {},
     "output_type": "execute_result"
    }
   ],
   "source": [
    "len(dataset)"
   ]
  },
  {
   "cell_type": "code",
   "execution_count": 46,
   "id": "1ce47e8a",
   "metadata": {},
   "outputs": [],
   "source": [
    "import torch\n",
    "importlib.reload(data)\n",
    "from data import RangeAnnotationDataset\n",
    "importlib.reload(models)\n",
    "from models import AutomaticRangeNet"
   ]
  },
  {
   "cell_type": "code",
   "execution_count": 49,
   "id": "30282b41",
   "metadata": {},
   "outputs": [
    {
     "name": "stderr",
     "output_type": "stream",
     "text": [
      "/tmp/ipykernel_1773276/1034087733.py:7: FutureWarning: You are using `torch.load` with `weights_only=False` (the current default value), which uses the default pickle module implicitly. It is possible to construct malicious pickle data which will execute arbitrary code during unpickling (See https://github.com/pytorch/pytorch/blob/main/SECURITY.md#untrusted-models for more details). In a future release, the default value for `weights_only` will be flipped to `True`. This limits the functions that could be executed during unpickling. Arbitrary objects will no longer be allowed to be loaded via this mode unless they are explicitly allowlisted by the user via `torch.serialization.add_safe_globals`. We recommend you start setting `weights_only=True` for any use case where you don't have full control of the loaded file. Please open an issue on GitHub for any issues related to this experimental feature.\n",
      "  model.load_state_dict(torch.load(\"../checkpoints/automatic_range.pt\"))\n"
     ]
    }
   ],
   "source": [
    "# --- Constants ---\n",
    "RANGE_MIN = 0\n",
    "RANGE_MAX = 1\n",
    "\n",
    "# --- Load model ---\n",
    "model = AutomaticRangeNet()\n",
    "model.load_state_dict(torch.load(\"../checkpoints/automatic_range.pt\"))\n",
    "model.eval()\n",
    "\n",
    "# --- Load some data ---\n",
    "dataset = RangeAnnotationDataset(\n",
    "    annotations_dir=\"../annotations\",\n",
    "    tiles_marker_dir=\"../data/tiles_marker\",\n",
    "    tiles_dapi_dir=\"../data/tiles_DAPI\",\n",
    "    augment=False\n",
    ")\n",
    "\n"
   ]
  },
  {
   "cell_type": "code",
   "execution_count": 50,
   "id": "d75b06cc",
   "metadata": {},
   "outputs": [
    {
     "name": "stdout",
     "output_type": "stream",
     "text": [
      "Loading annotation from ../annotations/MF018_early_TMA1_x4428_y120_CD4.json\n",
      "Base name for tile: MF018_early_TMA1_x4428_y120\n",
      "Suffix for tile: CD4\n",
      "Found marker image: ../data/tiles_marker/MF018_early_TMA1_x4428_y120_CD4.tiff\n",
      "\n",
      "Tile 1\n",
      "Predicted range: [0.99605536 1.        ]\n",
      "Actual    range: [0.77123207 1.        ]\n",
      "Loading annotation from ../annotations/MF066_late_TMA2_x1558_y2196_CD4.json\n",
      "Base name for tile: MF066_late_TMA2_x1558_y2196\n",
      "Suffix for tile: CD4\n",
      "Found marker image: ../data/tiles_marker/MF066_late_TMA2_x1558_y2196_CD4.tiff\n",
      "\n",
      "Tile 2\n",
      "Predicted range: [0.73758286 0.99966073]\n",
      "Actual    range: [0.68436664 0.9445233 ]\n",
      "Loading annotation from ../annotations/AD088_TMA1_x76_y1877_CD4.json\n",
      "Base name for tile: AD088_TMA1_x76_y1877\n",
      "Suffix for tile: CD4\n",
      "Found marker image: ../data/tiles_marker/AD088_TMA1_x76_y1877_CD4.tiff\n",
      "\n",
      "Tile 3\n",
      "Predicted range: [0.8046282 0.9999999]\n",
      "Actual    range: [0.77123207 1.        ]\n",
      "Loading annotation from ../annotations/MF209_early_TMA2_x3469_y1683_CD4.json\n",
      "Base name for tile: MF209_early_TMA2_x3469_y1683\n",
      "Suffix for tile: CD4\n",
      "Found marker image: ../data/tiles_marker/MF209_early_TMA2_x3469_y1683_CD4.tiff\n",
      "\n",
      "Tile 4\n",
      "Predicted range: [0.6031809 0.9225973]\n",
      "Actual    range: [0.6009138 0.8833434]\n",
      "Loading annotation from ../annotations/MF010_early_1_TMA1_x131_y2769_CD4.json\n",
      "Base name for tile: MF010_early_1_TMA1_x131_y2769\n",
      "Suffix for tile: CD4\n",
      "Found marker image: ../data/tiles_marker/MF010_early_1_TMA1_x131_y2769_CD4.tiff\n",
      "\n",
      "Tile 5\n",
      "Predicted range: [0.4111354  0.89399815]\n",
      "Actual    range: [0.402949 0.93439 ]\n",
      "Loading annotation from ../annotations/AD079_TMA1_x2231_y1154_CD4.json\n",
      "Base name for tile: AD079_TMA1_x2231_y1154\n",
      "Suffix for tile: CD4\n",
      "Found marker image: ../data/tiles_marker/AD079_TMA1_x2231_y1154_CD4.tiff\n",
      "\n",
      "Tile 6\n",
      "Predicted range: [0.6847843  0.96130514]\n",
      "Actual    range: [0.6082748 0.9569533]\n",
      "Loading annotation from ../annotations/MF036_late_2_TMA1_x2046_y617_CD4.json\n",
      "Base name for tile: MF036_late_2_TMA1_x2046_y617\n",
      "Suffix for tile: CD4\n",
      "Found marker image: ../data/tiles_marker/MF036_late_2_TMA1_x2046_y617_CD4.tiff\n",
      "\n",
      "Tile 7\n",
      "Predicted range: [0.78663296 0.99997306]\n",
      "Actual    range: [0.7457881 0.999966 ]\n",
      "Loading annotation from ../annotations/AD141_TMA1_x2569_y234_CD4.json\n",
      "Base name for tile: AD141_TMA1_x2569_y234\n",
      "Suffix for tile: CD4\n",
      "Found marker image: ../data/tiles_marker/AD141_TMA1_x2569_y234_CD4.tiff\n",
      "\n",
      "Tile 8\n",
      "Predicted range: [0.36384302 0.92066514]\n",
      "Actual    range: [0.350461  0.9350461]\n",
      "Loading annotation from ../annotations/MF146_early_TMA2_x806_y248_CD4.json\n",
      "Base name for tile: MF146_early_TMA2_x806_y248\n",
      "Suffix for tile: CD4\n",
      "Found marker image: ../data/tiles_marker/MF146_early_TMA2_x806_y248_CD4.tiff\n",
      "\n",
      "Tile 9\n",
      "Predicted range: [0.97879606 1.        ]\n",
      "Actual    range: [0.8702572 1.       ]\n",
      "Loading annotation from ../annotations/MF084_late_TMA1_x7657_y1068_CD4.json\n",
      "Base name for tile: MF084_late_TMA1_x7657_y1068\n",
      "Suffix for tile: CD4\n",
      "Found marker image: ../data/tiles_marker/MF084_late_TMA1_x7657_y1068_CD4.tiff\n",
      "\n",
      "Tile 10\n",
      "Predicted range: [0.86548465 1.        ]\n",
      "Actual    range: [0.7150288 0.9031139]\n"
     ]
    }
   ],
   "source": [
    "N = 10\n",
    "for i in range(N):\n",
    "    img, target = dataset[i]\n",
    "    with torch.no_grad():\n",
    "        pred = model(img.unsqueeze(0))  # add batch dim\n",
    "\n",
    "    # Denormalize predictions and targets\n",
    "    pred = pred.squeeze().numpy()\n",
    "    target = target.numpy()\n",
    "\n",
    "    pred_denorm = pred * (RANGE_MAX - RANGE_MIN) + RANGE_MIN\n",
    "    target_denorm = target * (RANGE_MAX - RANGE_MIN) + RANGE_MIN\n",
    "\n",
    "    print(f\"\\nTile {i+1}\")\n",
    "    # print(f\"Predicted range: {pred}\")\n",
    "    print(f\"Predicted range: {pred_denorm}\")\n",
    "    print(f\"Actual    range: {target_denorm}\")"
   ]
  },
  {
   "cell_type": "code",
   "execution_count": 54,
   "id": "7ab2b4d4",
   "metadata": {},
   "outputs": [
    {
     "name": "stderr",
     "output_type": "stream",
     "text": [
      "/tmp/ipykernel_1773276/1121043762.py:15: FutureWarning: You are using `torch.load` with `weights_only=False` (the current default value), which uses the default pickle module implicitly. It is possible to construct malicious pickle data which will execute arbitrary code during unpickling (See https://github.com/pytorch/pytorch/blob/main/SECURITY.md#untrusted-models for more details). In a future release, the default value for `weights_only` will be flipped to `True`. This limits the functions that could be executed during unpickling. Arbitrary objects will no longer be allowed to be loaded via this mode unless they are explicitly allowlisted by the user via `torch.serialization.add_safe_globals`. We recommend you start setting `weights_only=True` for any use case where you don't have full control of the loaded file. Please open an issue on GitHub for any issues related to this experimental feature.\n",
      "  model.load_state_dict(torch.load(\"../checkpoints/automatic_range.pt\", map_location=\"cpu\"))\n"
     ]
    },
    {
     "data": {
      "text/plain": [
       "AutomaticRangeNet(\n",
       "  (encoder): Sequential(\n",
       "    (0): Conv2d(2, 64, kernel_size=(7, 7), stride=(2, 2), padding=(3, 3), bias=False)\n",
       "    (1): BatchNorm2d(64, eps=1e-05, momentum=0.1, affine=True, track_running_stats=True)\n",
       "    (2): ReLU(inplace=True)\n",
       "    (3): MaxPool2d(kernel_size=3, stride=2, padding=1, dilation=1, ceil_mode=False)\n",
       "    (4): Sequential(\n",
       "      (0): BasicBlock(\n",
       "        (conv1): Conv2d(64, 64, kernel_size=(3, 3), stride=(1, 1), padding=(1, 1), bias=False)\n",
       "        (bn1): BatchNorm2d(64, eps=1e-05, momentum=0.1, affine=True, track_running_stats=True)\n",
       "        (relu): ReLU(inplace=True)\n",
       "        (conv2): Conv2d(64, 64, kernel_size=(3, 3), stride=(1, 1), padding=(1, 1), bias=False)\n",
       "        (bn2): BatchNorm2d(64, eps=1e-05, momentum=0.1, affine=True, track_running_stats=True)\n",
       "      )\n",
       "      (1): BasicBlock(\n",
       "        (conv1): Conv2d(64, 64, kernel_size=(3, 3), stride=(1, 1), padding=(1, 1), bias=False)\n",
       "        (bn1): BatchNorm2d(64, eps=1e-05, momentum=0.1, affine=True, track_running_stats=True)\n",
       "        (relu): ReLU(inplace=True)\n",
       "        (conv2): Conv2d(64, 64, kernel_size=(3, 3), stride=(1, 1), padding=(1, 1), bias=False)\n",
       "        (bn2): BatchNorm2d(64, eps=1e-05, momentum=0.1, affine=True, track_running_stats=True)\n",
       "      )\n",
       "    )\n",
       "    (5): Sequential(\n",
       "      (0): BasicBlock(\n",
       "        (conv1): Conv2d(64, 128, kernel_size=(3, 3), stride=(2, 2), padding=(1, 1), bias=False)\n",
       "        (bn1): BatchNorm2d(128, eps=1e-05, momentum=0.1, affine=True, track_running_stats=True)\n",
       "        (relu): ReLU(inplace=True)\n",
       "        (conv2): Conv2d(128, 128, kernel_size=(3, 3), stride=(1, 1), padding=(1, 1), bias=False)\n",
       "        (bn2): BatchNorm2d(128, eps=1e-05, momentum=0.1, affine=True, track_running_stats=True)\n",
       "        (downsample): Sequential(\n",
       "          (0): Conv2d(64, 128, kernel_size=(1, 1), stride=(2, 2), bias=False)\n",
       "          (1): BatchNorm2d(128, eps=1e-05, momentum=0.1, affine=True, track_running_stats=True)\n",
       "        )\n",
       "      )\n",
       "      (1): BasicBlock(\n",
       "        (conv1): Conv2d(128, 128, kernel_size=(3, 3), stride=(1, 1), padding=(1, 1), bias=False)\n",
       "        (bn1): BatchNorm2d(128, eps=1e-05, momentum=0.1, affine=True, track_running_stats=True)\n",
       "        (relu): ReLU(inplace=True)\n",
       "        (conv2): Conv2d(128, 128, kernel_size=(3, 3), stride=(1, 1), padding=(1, 1), bias=False)\n",
       "        (bn2): BatchNorm2d(128, eps=1e-05, momentum=0.1, affine=True, track_running_stats=True)\n",
       "      )\n",
       "    )\n",
       "    (6): Sequential(\n",
       "      (0): BasicBlock(\n",
       "        (conv1): Conv2d(128, 256, kernel_size=(3, 3), stride=(2, 2), padding=(1, 1), bias=False)\n",
       "        (bn1): BatchNorm2d(256, eps=1e-05, momentum=0.1, affine=True, track_running_stats=True)\n",
       "        (relu): ReLU(inplace=True)\n",
       "        (conv2): Conv2d(256, 256, kernel_size=(3, 3), stride=(1, 1), padding=(1, 1), bias=False)\n",
       "        (bn2): BatchNorm2d(256, eps=1e-05, momentum=0.1, affine=True, track_running_stats=True)\n",
       "        (downsample): Sequential(\n",
       "          (0): Conv2d(128, 256, kernel_size=(1, 1), stride=(2, 2), bias=False)\n",
       "          (1): BatchNorm2d(256, eps=1e-05, momentum=0.1, affine=True, track_running_stats=True)\n",
       "        )\n",
       "      )\n",
       "      (1): BasicBlock(\n",
       "        (conv1): Conv2d(256, 256, kernel_size=(3, 3), stride=(1, 1), padding=(1, 1), bias=False)\n",
       "        (bn1): BatchNorm2d(256, eps=1e-05, momentum=0.1, affine=True, track_running_stats=True)\n",
       "        (relu): ReLU(inplace=True)\n",
       "        (conv2): Conv2d(256, 256, kernel_size=(3, 3), stride=(1, 1), padding=(1, 1), bias=False)\n",
       "        (bn2): BatchNorm2d(256, eps=1e-05, momentum=0.1, affine=True, track_running_stats=True)\n",
       "      )\n",
       "    )\n",
       "    (7): Sequential(\n",
       "      (0): BasicBlock(\n",
       "        (conv1): Conv2d(256, 512, kernel_size=(3, 3), stride=(2, 2), padding=(1, 1), bias=False)\n",
       "        (bn1): BatchNorm2d(512, eps=1e-05, momentum=0.1, affine=True, track_running_stats=True)\n",
       "        (relu): ReLU(inplace=True)\n",
       "        (conv2): Conv2d(512, 512, kernel_size=(3, 3), stride=(1, 1), padding=(1, 1), bias=False)\n",
       "        (bn2): BatchNorm2d(512, eps=1e-05, momentum=0.1, affine=True, track_running_stats=True)\n",
       "        (downsample): Sequential(\n",
       "          (0): Conv2d(256, 512, kernel_size=(1, 1), stride=(2, 2), bias=False)\n",
       "          (1): BatchNorm2d(512, eps=1e-05, momentum=0.1, affine=True, track_running_stats=True)\n",
       "        )\n",
       "      )\n",
       "      (1): BasicBlock(\n",
       "        (conv1): Conv2d(512, 512, kernel_size=(3, 3), stride=(1, 1), padding=(1, 1), bias=False)\n",
       "        (bn1): BatchNorm2d(512, eps=1e-05, momentum=0.1, affine=True, track_running_stats=True)\n",
       "        (relu): ReLU(inplace=True)\n",
       "        (conv2): Conv2d(512, 512, kernel_size=(3, 3), stride=(1, 1), padding=(1, 1), bias=False)\n",
       "        (bn2): BatchNorm2d(512, eps=1e-05, momentum=0.1, affine=True, track_running_stats=True)\n",
       "      )\n",
       "    )\n",
       "    (8): AdaptiveAvgPool2d(output_size=(1, 1))\n",
       "  )\n",
       "  (head): Sequential(\n",
       "    (0): Flatten(start_dim=1, end_dim=-1)\n",
       "    (1): Linear(in_features=512, out_features=128, bias=True)\n",
       "    (2): ReLU()\n",
       "    (3): Linear(in_features=128, out_features=2, bias=True)\n",
       "  )\n",
       ")"
      ]
     },
     "execution_count": 54,
     "metadata": {},
     "output_type": "execute_result"
    }
   ],
   "source": [
    "import napari\n",
    "import numpy as np\n",
    "from skimage.io import imread\n",
    "import json\n",
    "import os\n",
    "import torch\n",
    "from models import AutomaticRangeNet\n",
    "\n",
    "# --- Helper to load normalized image ---\n",
    "def load_img(path):\n",
    "    return imread(path).astype(np.float32) / 1.0  # Already normalized to [0, 1]\n",
    "\n",
    "# --- Load model ---\n",
    "model = AutomaticRangeNet()\n",
    "model.load_state_dict(torch.load(\"../checkpoints/automatic_range.pt\", map_location=\"cpu\"))\n",
    "model.eval()"
   ]
  },
  {
   "cell_type": "code",
   "execution_count": null,
   "id": "1cf148b9",
   "metadata": {},
   "outputs": [],
   "source": [
    "# --- Tiles to test ---\n",
    "tile_paths = [\n",
    "    \"MF066_late_TMA2_x1558_y2196_CD4\",\n",
    "    \"AD088_TMA1_x76_y1877_CD4\",\n",
    "    \"MF209_early_TMA2_x3469_y1683_CD4\"\n",
    "]\n",
    "\n",
    "annotations_dir = \"../annotations\"\n",
    "marker_dir = \"../data/tiles_marker\"\n",
    "dapi_dir = \"../data/tiles_DAPI\"\n",
    "\n",
    "viewer = napari.Viewer()\n"
   ]
  },
  {
   "cell_type": "code",
   "execution_count": 60,
   "id": "2718b69b",
   "metadata": {},
   "outputs": [],
   "source": [
    "for tile_name in tile_paths:\n",
    "    marker_path = os.path.join(marker_dir, f\"{tile_name}.tiff\")\n",
    "\n",
    "    dapi_tile_name = tile_name.replace(\"CD4\", \"DAPI\")\n",
    "    dapi_path = os.path.join(dapi_dir, f\"{dapi_tile_name}.tiff\")\n",
    "    annotation_path = os.path.join(annotations_dir, f\"{tile_name}.json\")\n",
    "\n",
    "    # Load images\n",
    "    marker = load_img(marker_path)\n",
    "    dapi = load_img(dapi_path)\n",
    "\n",
    "    # Load true range\n",
    "    with open(annotation_path) as f:\n",
    "        annotation = json.load(f)\n",
    "    true_min, true_max = annotation[\"min\"], annotation[\"max\"]\n",
    "\n",
    "    # Predict range\n",
    "    input_tensor = torch.from_numpy(np.stack([marker, dapi])[None, :, :, :]).float()\n",
    "    with torch.no_grad():\n",
    "        pred_min, pred_max = model(input_tensor).squeeze().tolist()\n",
    "\n",
    "    # Add DAPI\n",
    "    viewer.add_image(dapi, name=f\"{tile_name} - DAPI\", colormap='bop blue',contrast_limits=(0, 1))\n",
    "\n",
    "    # Add marker (true range)\n",
    "    viewer.add_image(\n",
    "        marker, \n",
    "        name=f\"{tile_name} - marker (true)\",\n",
    "        colormap='green',\n",
    "        contrast_limits=(true_min, true_max),\n",
    "        blending='additive'\n",
    "    )\n",
    "\n",
    "    # Add marker (predicted range)\n",
    "    viewer.add_image(\n",
    "        marker, \n",
    "        name=f\"{tile_name} - marker (pred)\",\n",
    "        colormap='magenta',\n",
    "        contrast_limits=(pred_min, pred_max),\n",
    "        blending='additive'\n",
    "    )\n",
    "\n",
    "napari.run()"
   ]
  },
  {
   "cell_type": "code",
   "execution_count": null,
   "id": "5ba6ec4a",
   "metadata": {},
   "outputs": [],
   "source": []
  },
  {
   "cell_type": "code",
   "execution_count": 17,
   "id": "517c1317",
   "metadata": {},
   "outputs": [
    {
     "name": "stdout",
     "output_type": "stream",
     "text": [
      "Max intensity after modification: 580\n"
     ]
    }
   ],
   "source": [
    "# Print the max of the modified image\n",
    "print(\"Max intensity after modification:\", img.max())"
   ]
  },
  {
   "cell_type": "code",
   "execution_count": null,
   "id": "c952f9d3",
   "metadata": {},
   "outputs": [],
   "source": []
  },
  {
   "cell_type": "code",
   "execution_count": null,
   "id": "b59bad2c",
   "metadata": {},
   "outputs": [],
   "source": []
  },
  {
   "cell_type": "code",
   "execution_count": null,
   "id": "f5ff4c2c",
   "metadata": {},
   "outputs": [
    {
     "name": "stdout",
     "output_type": "stream",
     "text": [
      "Median without bright spots: 0.0028898950004810084\n"
     ]
    },
    {
     "data": {
      "image/png": "[encoded data removed]",
      "text/plain": [
       "<Figure size 1000x400 with 2 Axes>"
      ]
     },
     "metadata": {},
     "output_type": "display_data"
    }
   ],
   "source": [
    "\n",
    "# Save the mask\n",
    "mask_output_path = \"../data/tiles_marker/AD079_TMA1_x3893_y3878_CD4_mask.tiff\"\n",
    "imwrite(mask_output_path, mask.astype(np.uint8) * 255)  # Save as binary mask"
   ]
  },
  {
   "cell_type": "code",
   "execution_count": 19,
   "id": "89dfaad5",
   "metadata": {},
   "outputs": [
    {
     "name": "stdout",
     "output_type": "stream",
     "text": [
      "Average distance to center: 98.01188014956715\n"
     ]
    }
   ],
   "source": [
    "center = (37, 913)\n",
    "pointA = (55, 1013)\n",
    "pointB = (77, 819)\n",
    "pointC = (127, 920)\n",
    "\n",
    "avg_distance_to_center = np.mean([\n",
    "    np.linalg.norm(np.array(center) - np.array(pointA)),\n",
    "    np.linalg.norm(np.array(center) - np.array(pointB)),\n",
    "    np.linalg.norm(np.array(center) - np.array(pointC))\n",
    "])\n",
    "print(\"Average distance to center:\", avg_distance_to_center)\n"
   ]
  }
 ],
 "metadata": {
  "kernelspec": {
   "display_name": "napari-env3",
   "language": "python",
   "name": "python3"
  },
  "language_info": {
   "codemirror_mode": {
    "name": "ipython",
    "version": 3
   },
   "file_extension": ".py",
   "mimetype": "text/x-python",
   "name": "python",
   "nbconvert_exporter": "python",
   "pygments_lexer": "ipython3",
   "version": "3.10.15"
  }
 },
 "nbformat": 4,
 "nbformat_minor": 5
}
